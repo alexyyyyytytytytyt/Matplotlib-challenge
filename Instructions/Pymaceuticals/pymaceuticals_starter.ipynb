{
 "cells": [
  {
   "cell_type": "markdown",
   "metadata": {},
   "source": [
    "## Observations and Insights "
   ]
  },
  {
   "cell_type": "markdown",
   "metadata": {},
   "source": []
  },
  {
   "cell_type": "code",
   "execution_count": null,
   "metadata": {},
   "outputs": [],
   "source": [
    "# Dependencies and Setup\n",
    "import matplotlib.pyplot as plt\n",
    "import pandas as pd\n",
    "import scipy.stats as st\n",
    "import numpy as np\n",
    "from scipy import stats\n",
    "from sklearn.linear_model import LinearRegression\n",
    "\n",
    "# Study data files\n",
    "mouse_metadata_path = \"data/Mouse_metadata.csv\"\n",
    "study_results_path = \"data/Study_results.csv\"\n",
    "\n",
    "# Read the mouse data and the study results\n",
    "mouse_metadata = pd.read_csv(mouse_metadata_path)\n",
    "study_results = pd.read_csv(study_results_path)\n",
    "\n",
    "# Combine the data into a single dataset\n",
    "\n",
    "# Display the data table for preview\n",
    "\n",
    "metadata = pd.DataFrame(mouse_metadata)\n",
    "results = pd.DataFrame(study_results)\n",
    "df3 = pd.merge(metadata, results, on=\"Mouse ID\")\n",
    "df3"
   ]
  },
  {
   "cell_type": "code",
   "execution_count": null,
   "metadata": {},
   "outputs": [],
   "source": [
    "uf3 = df3.rename(columns={\"Drug Regimen\": \"DrugRegimen\", \"Mouse ID\" : \"MouseID\"})\n",
    "uf3"
   ]
  },
  {
   "cell_type": "code",
   "execution_count": null,
   "metadata": {},
   "outputs": [],
   "source": [
    "# Checking the number of mice.\n",
    "pip = uf3[\"MouseID\"].value_counts()\n",
    "pip"
   ]
  },
  {
   "cell_type": "code",
   "execution_count": null,
   "metadata": {},
   "outputs": [],
   "source": [
    "# Optional: Get all the data for the duplicate mouse ID. \n",
    "# Getting the duplicate mice by ID number that shows up for Mouse ID and Timepoint. df3\n",
    "two_mouse = uf3.loc[uf3.MouseID=='g989']\n",
    "two_mouse"
   ]
  },
  {
   "cell_type": "code",
   "execution_count": null,
   "metadata": {},
   "outputs": [],
   "source": [
    "dropedpip = pip.drop(['g989'])\n",
    "dropedpip"
   ]
  },
  {
   "cell_type": "code",
   "execution_count": null,
   "metadata": {},
   "outputs": [],
   "source": [
    "# Create a clean DataFrame by dropping the duplicate mouse by its ID.\n",
    "unf_alt = uf3.set_index(\"MouseID\")\n",
    "unf_alt"
   ]
  },
  {
   "cell_type": "code",
   "execution_count": null,
   "metadata": {},
   "outputs": [],
   "source": [
    "unf_clean = unf_alt.drop(index=('g989'))\n",
    "unf_clean"
   ]
  },
  {
   "cell_type": "code",
   "execution_count": null,
   "metadata": {},
   "outputs": [],
   "source": [
    "unf_clean.loc()"
   ]
  },
  {
   "cell_type": "code",
   "execution_count": null,
   "metadata": {},
   "outputs": [],
   "source": [
    "# Checking the number of mice in the clean DataFrame.\n",
    "dropedpip.count()"
   ]
  },
  {
   "cell_type": "markdown",
   "metadata": {},
   "source": [
    "## Summary Statistics (Done)"
   ]
  },
  {
   "cell_type": "code",
   "execution_count": null,
   "metadata": {},
   "outputs": [],
   "source": [
    "# Generate a summary statistics table of mean, median, variance, standard deviation, and SEM of the tumor volume for each regimen\n",
    "fig = unf_clean.groupby(\"DrugRegimen\")\n",
    "meanfig = fig.mean()\n",
    "avg_tumor = meanfig[\"Tumor Volume (mm3)\"]\n",
    "\n",
    "medfig = fig.median()\n",
    "med_tumor = medfig[\"Tumor Volume (mm3)\"]\n",
    "\n",
    "varfig = fig.var()\n",
    "var_tumor = varfig[\"Tumor Volume (mm3)\"]\n",
    "\n",
    "stdfig = fig.std()\n",
    "std_tumor = stdfig[\"Tumor Volume (mm3)\"]\n",
    "\n",
    "semfig = fig.sem()\n",
    "sem_tumor = semfig[\"Tumor Volume (mm3)\"]\n",
    "\n",
    "summary_data = pd.DataFrame({\"mean\" : avg_tumor,\n",
    "              \"median\" : med_tumor,\n",
    "              \"variance\" : var_tumor,\n",
    "              \"standard deviation\" : std_tumor,\n",
    "              \"sem\" : sem_tumor \n",
    "})\n",
    "summary_data\n",
    "\n",
    "\n",
    "# Use groupby and summary statistical methods to calculate the following properties of each drug regimen: \n",
    "# mean, median, variance, standard deviation, and SEM of the tumor volume. \n",
    "# Assemble the resulting series into a single summary dataframe.\n",
    "\n"
   ]
  },
  {
   "cell_type": "code",
   "execution_count": null,
   "metadata": {},
   "outputs": [],
   "source": [
    "# Generate a summary statistics table of mean, median, variance, standard deviation, and SEM of the tumor volume for each regimen\n",
    "\n",
    "# Using the aggregation method, produce the same summary statistics in a single line\n",
    "unf_clean.groupby('DrugRegimen')['Tumor Volume (mm3)'].agg(['mean', 'median','var', 'std','sem'])"
   ]
  },
  {
   "cell_type": "markdown",
   "metadata": {},
   "source": [
    "## Bar and Pie Charts (Done)"
   ]
  },
  {
   "cell_type": "code",
   "execution_count": null,
   "metadata": {},
   "outputs": [],
   "source": [
    "# Generate a bar plot showing the total number of timepoints for all mice tested for each drug regimen using Pandas.\n",
    "barli = unf_clean.groupby([\"DrugRegimen\"])\n",
    "gather3 = barli[\"Timepoint\"].count()\n",
    "frame3 = pd.DataFrame(gather3)\n",
    "sortframe3 = frame3.sort_values(by=['Timepoint'], ascending=False)\n",
    "sortframe3"
   ]
  },
  {
   "cell_type": "code",
   "execution_count": null,
   "metadata": {},
   "outputs": [],
   "source": [
    "sortframe3.plot(kind=\"bar\", title = \"Total Number of Timepoints for All Mice Tested for Each Drug Regimen\")\n",
    "plt.ylabel(\"Total Number of Timepoints\")\n",
    "plt.legend([\"Total Number of Timepoints\"])\n",
    "plt.show()"
   ]
  },
  {
   "cell_type": "code",
   "execution_count": null,
   "metadata": {},
   "outputs": [],
   "source": [
    "# Generate a bar plot showing the total number of timepoints for all mice tested for each drug regimen using pyplot.\n",
    "plt.bar(sortframe3.index, sortframe3[\"Timepoint\"])\n",
    "plt.xticks(rotation=90)\n",
    "plt.xlabel(\"DrugRegimen\")\n",
    "plt.ylabel(\"Total Number of Timepoints\")\n",
    "plt.title(\"Total Number of Timepoints for All Mice Tested for Each Drug Regimen\")\n",
    "plt.legend([\"Total Number of Timepoints\"])\n",
    "plt.show()"
   ]
  },
  {
   "cell_type": "code",
   "execution_count": null,
   "metadata": {},
   "outputs": [],
   "source": [
    "# Generate a pie plot showing the distribution of female versus male mice using Pandas\n",
    "unf_clean.reset_index()\n",
    "pie = unf_clean.groupby(\"Sex\")\n",
    "gather4 = pie.count()\n",
    "did = pd.DataFrame(gather4[\"DrugRegimen\"])\n",
    "did"
   ]
  },
  {
   "cell_type": "code",
   "execution_count": null,
   "metadata": {},
   "outputs": [],
   "source": [
    "dip = did.rename(columns={\"DrugRegimen\":\"Count\"})\n",
    "dip"
   ]
  },
  {
   "cell_type": "code",
   "execution_count": null,
   "metadata": {},
   "outputs": [],
   "source": [
    "dip.plot(kind=\"pie\", autopct=\"%1.1f%%\", subplots=True, title = \"The Distribution of Female vs. Male Mice\")\n",
    "plt.show()"
   ]
  },
  {
   "cell_type": "code",
   "execution_count": null,
   "metadata": {},
   "outputs": [],
   "source": [
    "# Generate a pie plot showing the distribution of female versus male mice using pyplot\n",
    "plt.pie(dip[\"Count\"], autopct=\"%1.1f%%\", labels=dip.index)\n",
    "plt.legend(labels=dip.index, loc=\"best\")\n",
    "plt.ylabel(\"Count\")\n",
    "plt.title(\"The Distribution of Female vs. Male Mice\")\n",
    "plt.show()"
   ]
  },
  {
   "cell_type": "markdown",
   "metadata": {},
   "source": [
    "## Quartiles, Outliers and Boxplots"
   ]
  },
  {
   "cell_type": "code",
   "execution_count": null,
   "metadata": {},
   "outputs": [],
   "source": [
    "# Calculate the final tumor volume of each mouse across four of the treatment regimens:  \n",
    "# Capomulin, Ramicane, Infubinol, and Ceftamin\n",
    "\n",
    "# Start by getting the last (greatest) timepoint for each mouse\n",
    "bit = unf_clean.groupby(\"MouseID\")\n",
    "gatherdata = bit[\"Timepoint\"].max()\n",
    "gatherdata\n",
    "\n",
    "# Merge this group df with the original dataframe to get the tumor volume at the last timepoint\n",
    "mergedata = pd.merge(gatherdata, unf_clean, on=(\"MouseID\",\"Timepoint\"))\n",
    "mergedata"
   ]
  },
  {
   "cell_type": "code",
   "execution_count": null,
   "metadata": {},
   "outputs": [],
   "source": [
    "# Put treatments into a list for for loop (and later for plot labels)\n",
    "mergedata_isin = mergedata.loc[mergedata['DrugRegimen'].isin(['Capomulin','Ramicane','Infubinol','Ceftamin'])]\n",
    "date = mergedata_isin[[\"DrugRegimen\",\"Tumor Volume (mm3)\"]]\n",
    "date\n",
    "\n",
    "# Create empty list to fill with tumor vol data (for plotting)\n",
    "    "
   ]
  },
  {
   "cell_type": "code",
   "execution_count": null,
   "metadata": {},
   "outputs": [],
   "source": [
    "date_cap = date.loc[date.DrugRegimen==\"Capomulin\"]\n",
    "vol_cap = date_cap[\"Tumor Volume (mm3)\"].sort_values(ascending=True)\n",
    "\n",
    "date_ceft = date.loc[date.DrugRegimen==\"Ceftamin\"]\n",
    "vol_ceft = date_ceft[\"Tumor Volume (mm3)\"].sort_values(ascending=True)\n",
    "\n",
    "date_ram = date.loc[date.DrugRegimen==\"Ramicane\"]\n",
    "vol_ram = date_ram[\"Tumor Volume (mm3)\"].sort_values(ascending=True)\n",
    "\n",
    "date_inf = date.loc[date.DrugRegimen==\"Infubinol\"]\n",
    "vol_inf = date_inf[\"Tumor Volume (mm3)\"].sort_values(ascending=True)\n",
    "\n",
    "\n",
    "ceft_index = vol_ceft.reset_index()[\"Tumor Volume (mm3)\"]\n",
    "\n",
    "cap_index = vol_cap.reset_index()[\"Tumor Volume (mm3)\"]\n",
    "\n",
    "ram_index = vol_ram.reset_index()[\"Tumor Volume (mm3)\"]\n",
    "\n",
    "inf_index = vol_inf.reset_index()[\"Tumor Volume (mm3)\"]\n",
    "\n",
    "four_drugs = pd.DataFrame({\"Ceftamin\" : ceft_index,\n",
    "             \"Capomulin\" : cap_index,\n",
    "             \"Ramicane\" : ram_index,\n",
    "             \"Infubinol\" : inf_index})\n",
    "four_drugs"
   ]
  },
  {
   "cell_type": "code",
   "execution_count": null,
   "metadata": {},
   "outputs": [],
   "source": [
    "# Calculate the IQR and quantitatively determine if there are any potential outliers. \n",
    "\n",
    "    \n",
    "    # Locate the rows which contain mice on each drug and get the tumor volumes\n",
    "    \n",
    "    \n",
    "    # add subset \n",
    "quartile_cap = vol_cap.quantile([.25, .5, .75])\n",
    "lowquart_cap = quartile_cap[.25]\n",
    "medquart_cap = quartile_cap[.5]\n",
    "upquart_cap = quartile_cap[.75]\n",
    "iqrquart_cap = upquart_cap-lowquart_cap\n",
    "lowbquart_cap = lowquart_cap - (1.5*iqrquart_cap)\n",
    "upbquart_cap = upquart_cap + (1.5*iqrquart_cap)\n",
    "max_cap = vol_cap.max()\n",
    "min_cap = vol_cap.min()\n",
    "\n",
    "quartile_ram = vol_ram.quantile([.25, .5, .75])\n",
    "lowquart_ram = quartile_ram[.25]\n",
    "medquart_ram = quartile_ram[.5]\n",
    "upquart_ram = quartile_ram[.75]\n",
    "iqrquart_ram = upquart_ram-lowquart_ram\n",
    "lowbquart_ram = lowquart_ram - (1.5*iqrquart_ram)\n",
    "upbquart_ram = upquart_ram + (1.5*iqrquart_ram)\n",
    "max_ram = vol_ram.max()\n",
    "min_ram = vol_ram.min()\n",
    "\n",
    "quartile_inf = vol_inf.quantile([.25, .5, .75])\n",
    "lowquart_inf = quartile_inf[.25]\n",
    "medquart_inf = quartile_inf[.5]\n",
    "upquart_inf = quartile_inf[.75]\n",
    "iqrquart_inf = upquart_inf-lowquart_inf\n",
    "lowbquart_inf = lowquart_inf - (1.5*iqrquart_inf)\n",
    "upbquart_inf = upquart_inf + (1.5*iqrquart_inf)\n",
    "max_inf = vol_inf.max()\n",
    "min_inf = vol_inf.min()\n",
    "\n",
    "quartile_ceft = vol_ceft.quantile([.25, .5, .75])\n",
    "lowquart_ceft = quartile_ceft[.25]\n",
    "medquart_ceft = quartile_ceft[.5]\n",
    "upquart_ceft = quartile_ceft[.75]\n",
    "iqrquart_ceft = upquart_ceft-lowquart_ceft\n",
    "lowbquart_ceft = lowquart_ceft - (1.5*iqrquart_ceft)\n",
    "upbquart_ceft = upquart_ceft + (1.5*iqrquart_ceft)\n",
    "max_ceft = vol_ceft.max()\n",
    "min_ceft = vol_ceft.min()\n",
    "\n",
    "data = {\"up\" : [upquart_cap, upquart_ceft, upquart_inf, upquart_ram],\n",
    "        \"med\": [medquart_cap, medquart_ceft, medquart_inf, medquart_ram],\n",
    "        \"low\" : [lowquart_cap, lowquart_ceft, lowquart_inf, lowquart_ram,],\n",
    "        \"iqr\" : [iqrquart_cap, iqrquart_ceft, iqrquart_inf, iqrquart_ram],\n",
    "        \"upb\" : [upbquart_cap, upbquart_ceft, upbquart_inf, upbquart_ram],\n",
    "        \"lowb\" : [lowbquart_cap, lowbquart_ceft, lowbquart_inf, lowbquart_ram],\n",
    "        \"max\" : [max_cap, max_ceft, max_inf, max_ram],\n",
    "        \"min\" : [min_cap, min_ceft, min_inf, min_ram]\n",
    "}\n",
    "\n",
    "outlier = pd.DataFrame(data, index = [\"Capomulin\", \"Ceftamin\", \"Infubinol\", \"Ramicane\"])\n",
    "outlier"
   ]
  },
  {
   "cell_type": "code",
   "execution_count": null,
   "metadata": {},
   "outputs": [],
   "source": [
    "print(f\"The outliners for Capomulin could be higher than {round(upquart_cap,2)} and lower than {round(lowbquart_cap,2)}\")\n",
    "print(f\"The outliners for Ceftamin could be higher than {round(upquart_ceft,2)} and lower than {round(lowbquart_ceft,2)}\")\n",
    "print(f\"The outliners for Infubinol could be higher than {round(upquart_inf,2)} and lower than {round(lowbquart_inf,2)}\")\n",
    "print(f\"The outliners for Ramicane could be higher than {round(upquart_ram,2)} and lower than {round(lowbquart_ram,2)}\")"
   ]
  },
  {
   "cell_type": "code",
   "execution_count": null,
   "metadata": {},
   "outputs": [],
   "source": [
    "vol_cap.loc[vol_cap <= lowbquart_cap].count()\n",
    "vol_cap.loc[vol_cap >= upbquart_cap].count()\n",
    "print(f\"Number of lower outliers for Ceftamin: {vol_cap.loc[vol_cap <= lowbquart_cap].count()}\")\n",
    "print(f\"Number of upper outliers for Ceftamin: {vol_cap.loc[vol_cap >= upbquart_cap].count()}\")\n",
    "\n",
    "\n",
    "vol_ceft.loc[vol_ceft <= lowbquart_ceft].count()\n",
    "vol_ceft.loc[vol_ceft >= upbquart_ceft].count()\n",
    "print(f\"Number of lower outliers for Ceftamin: {vol_ceft.loc[vol_ceft <= lowbquart_ceft].count()}\")\n",
    "print(f\"Number of upper outliers for Ceftamin: {vol_ceft.loc[vol_ceft >= upbquart_ceft].count()}\")\n",
    "\n",
    "vol_ram.loc[vol_ram <= lowbquart_ram].count()\n",
    "vol_ram.loc[vol_ram >= upbquart_ram].count()\n",
    "print(f\"Number of lower outliers for Ramicane: {vol_ram.loc[vol_ram <= lowbquart_ram].count()}\")\n",
    "print(f\"Number of upper outliers for Ramicane: {vol_ram.loc[vol_ram >= upbquart_ram].count()}\")\n",
    "\n",
    "vol_inf.loc[vol_inf <= lowbquart_inf].count()\n",
    "vol_inf.loc[vol_inf >= upbquart_inf].count()\n",
    "print(f\"Number of lower outliers for Infubinol: {vol_inf.loc[vol_inf <= lowbquart_inf].count()}\")\n",
    "print(f\"Number of upper outliers for Infubinol: {vol_inf.loc[vol_inf >= upbquart_inf].count()}\")"
   ]
  },
  {
   "cell_type": "code",
   "execution_count": null,
   "metadata": {},
   "outputs": [],
   "source": [
    "# Generate a box plot of the final tumor volume of each mouse across four regimens of interest\n",
    "fig1, ax1 = plt.subplots()\n",
    "x = [1, 2, 3, 4]\n",
    "ax1.boxplot([vol_cap, vol_ram, vol_inf, vol_ceft])\n",
    "plt.xticks(x, ['Capomulin', 'Ramicane', 'Infubinol', 'Ceftamin'])\n",
    "plt.ylabel(\"Final Tumor Volume\")\n",
    "plt.title(\"The Final Tumor Volume of Each Mouse Across Four Regimens of Interest\")\n",
    "plt.show()"
   ]
  },
  {
   "cell_type": "markdown",
   "metadata": {},
   "source": [
    "## Line and Scatter Plots (Done)"
   ]
  },
  {
   "cell_type": "code",
   "execution_count": null,
   "metadata": {},
   "outputs": [],
   "source": [
    "# Generate a line plot of tumor volume vs. time point for a mouse treated with Capomulin"
   ]
  },
  {
   "cell_type": "code",
   "execution_count": null,
   "metadata": {},
   "outputs": [],
   "source": [
    "bdb = uf3.loc[uf3.DrugRegimen=='Capomulin']\n",
    "bdb"
   ]
  },
  {
   "cell_type": "code",
   "execution_count": null,
   "metadata": {},
   "outputs": [],
   "source": [
    "one_mouse = bdb.loc[bdb.MouseID=='s185']\n",
    "one_mouse"
   ]
  },
  {
   "cell_type": "code",
   "execution_count": null,
   "metadata": {},
   "outputs": [],
   "source": [
    "\n",
    "x_axis = np.arange(len(bdb))\n",
    "tick_locations = list(x_axis)\n",
    "\n",
    "plt.figure(figsize=(70,4))\n",
    "plt.plot(x_axis, bdb[\"Tumor Volume (mm3)\"], marker=\"o\")\n",
    "plt.show\n",
    "plt.xlabel(\"Capomulin s185\")\n",
    "plt.ylabel(\"Tumor Volume for Each Time Point\")\n",
    "\n",
    "plt.xticks(tick_locations, bdb[\"Timepoint\"])\n",
    "\n",
    "plt.xlim(-1, len(bdb))\n",
    "plt.tight_layout()"
   ]
  },
  {
   "cell_type": "code",
   "execution_count": null,
   "metadata": {
    "scrolled": true
   },
   "outputs": [],
   "source": [
    "x_axis = np.arange(len(one_mouse))\n",
    "tick_locations = list(x_axis)\n",
    "\n",
    "plt.figure(figsize=(7,4))\n",
    "plt.plot(x_axis, one_mouse[\"Tumor Volume (mm3)\"], marker=\"o\")\n",
    "plt.show\n",
    "plt.xlabel(\"Capomulin s185\")\n",
    "plt.ylabel(\"Tumor Volume for Each Time Point\")\n",
    "\n",
    "plt.xticks(tick_locations, one_mouse[\"Timepoint\"])\n",
    "\n",
    "plt.xlim(-1, len(one_mouse))\n",
    "plt.tight_layout()\n",
    "plt.title(\"Tumor Volume vs. Time Point for Mouse s185 Treated with Capomulin\")\n",
    "plt.show()"
   ]
  },
  {
   "cell_type": "code",
   "execution_count": null,
   "metadata": {},
   "outputs": [],
   "source": [
    "# Generate a scatter plot of average tumor volume vs. mouse weight for the Capomulin regimen\n",
    "dib = bdb.groupby([\"MouseID\",\"Weight (g)\"])\n",
    "gather_data = dib[\"Tumor Volume (mm3)\"].mean()\n",
    "gather_data"
   ]
  },
  {
   "cell_type": "code",
   "execution_count": null,
   "metadata": {},
   "outputs": [],
   "source": [
    "drop_data = gather_data.droplevel(0)\n",
    "pd.DataFrame(drop_data)"
   ]
  },
  {
   "cell_type": "code",
   "execution_count": null,
   "metadata": {},
   "outputs": [],
   "source": [
    "plt.scatter(pd.DataFrame(drop_data).index, pd.DataFrame(drop_data)[\"Tumor Volume (mm3)\"])\n",
    "plt.xlabel(\"Weight (g)\")\n",
    "plt.ylabel(\"Average Tumor Volume\")\n",
    "plt.title(\"Average Tumor Volume vs. Mouse Weight for the Capomulin Regimen\")\n",
    "plt.show()"
   ]
  },
  {
   "cell_type": "markdown",
   "metadata": {},
   "source": [
    "## Correlation and Regression"
   ]
  },
  {
   "cell_type": "code",
   "execution_count": null,
   "metadata": {},
   "outputs": [],
   "source": [
    "# Calculate the correlation coefficient and linear regression model \n",
    "# for mouse weight and average tumor volume for the Capomulin regimen\n",
    "correlation = st.pearsonr(pd.DataFrame(drop_data).index, pd.DataFrame(drop_data)[\"Tumor Volume (mm3)\"])\n",
    "print(\"The correlation between mouse weight and average tumor volume is \" + str(round(correlation[0],2)))"
   ]
  },
  {
   "cell_type": "code",
   "execution_count": null,
   "metadata": {},
   "outputs": [],
   "source": [
    "m, b = np.polyfit(pd.DataFrame(drop_data).index, pd.DataFrame(drop_data)[\"Tumor Volume (mm3)\"], 1)\n",
    "plt.plot(pd.DataFrame(drop_data).index, m*pd.DataFrame(drop_data).index + b, color=\"red\")\n",
    "line_eq = \"y = \" + str(round(m,2)) + \"x + \" + str(round(b,2))\n",
    "plt.scatter(pd.DataFrame(drop_data).index, pd.DataFrame(drop_data)[\"Tumor Volume (mm3)\"])\n",
    "plt.annotate(line_eq,(20,39),fontsize=15,color=\"red\")\n",
    "plt.xlabel(\"Weight (g)\")\n",
    "plt.ylabel(\"Average Tumor Volume\")\n",
    "plt.title(\"Average Tumor Volume vs. Mouse Weight for the Capomulin Regimen\")\n",
    "plt.show()"
   ]
  }
 ],
 "metadata": {
  "anaconda-cloud": {},
  "kernelspec": {
   "display_name": "Python 3 (ipykernel)",
   "language": "python",
   "name": "python3"
  },
  "language_info": {
   "codemirror_mode": {
    "name": "ipython",
    "version": 3
   },
   "file_extension": ".py",
   "mimetype": "text/x-python",
   "name": "python",
   "nbconvert_exporter": "python",
   "pygments_lexer": "ipython3",
   "version": "3.9.7"
  }
 },
 "nbformat": 4,
 "nbformat_minor": 4
}
